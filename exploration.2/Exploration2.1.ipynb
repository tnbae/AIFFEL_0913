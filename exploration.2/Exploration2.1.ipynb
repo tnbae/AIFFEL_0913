{
  "nbformat": 4,
  "nbformat_minor": 0,
  "metadata": {
    "colab": {
      "provenance": []
    },
    "kernelspec": {
      "name": "python3",
      "display_name": "Python 3"
    },
    "language_info": {
      "name": "python"
    }
  },
  "cells": [
    {
      "cell_type": "code",
      "execution_count": 220,
      "metadata": {
        "id": "uZnbz4S5tS20"
      },
      "outputs": [],
      "source": [
        "import sklearn\n",
        "import numpy as np\n",
        "import pandas as pd\n",
        "import matplotlib.pyplot as plt\n",
        "from sklearn.datasets import load_diabetes\n",
        "from sklearn.model_selection import train_test_split\n",
        "from sklearn.linear_model import LinearRegression\n",
        "from sklearn.metrics import classification_report"
      ]
    },
    {
      "cell_type": "code",
      "source": [
        "diabetes=load_diabetes()"
      ],
      "metadata": {
        "id": "cbEmTTwku43H"
      },
      "execution_count": 193,
      "outputs": []
    },
    {
      "cell_type": "code",
      "source": [
        "diabetes.keys()"
      ],
      "metadata": {
        "colab": {
          "base_uri": "https://localhost:8080/"
        },
        "id": "5NWW-M4Iye6t",
        "outputId": "d05c9a63-c296-4c2f-93d4-fbb1ca6fd939"
      },
      "execution_count": 194,
      "outputs": [
        {
          "output_type": "execute_result",
          "data": {
            "text/plain": [
              "dict_keys(['data', 'target', 'frame', 'DESCR', 'feature_names', 'data_filename', 'target_filename', 'data_module'])"
            ]
          },
          "metadata": {},
          "execution_count": 194
        }
      ]
    },
    {
      "cell_type": "code",
      "source": [
        "diabetes.feature_names"
      ],
      "metadata": {
        "colab": {
          "base_uri": "https://localhost:8080/"
        },
        "id": "N5O1qkBexYXG",
        "outputId": "319e5b4e-9912-49a8-ed82-0af29d9b0612"
      },
      "execution_count": 195,
      "outputs": [
        {
          "output_type": "execute_result",
          "data": {
            "text/plain": [
              "['age', 'sex', 'bmi', 'bp', 's1', 's2', 's3', 's4', 's5', 's6']"
            ]
          },
          "metadata": {},
          "execution_count": 195
        }
      ]
    },
    {
      "cell_type": "code",
      "source": [
        "df_X=diabetes.data\n",
        "df_y=diabetes.target"
      ],
      "metadata": {
        "id": "J_UQjybfu-d2"
      },
      "execution_count": 196,
      "outputs": []
    },
    {
      "cell_type": "code",
      "source": [
        "X=np.array(df_X)\n",
        "y=np.array(df_y)"
      ],
      "metadata": {
        "id": "ffwEd4phvJIm"
      },
      "execution_count": 197,
      "outputs": []
    },
    {
      "cell_type": "code",
      "source": [
        "X_train,X_test,y_train,y_test=train_test_split(X,y,test_size=0.25,random_state=2022)"
      ],
      "metadata": {
        "id": "eX8q-eOIwzDX"
      },
      "execution_count": 198,
      "outputs": []
    },
    {
      "cell_type": "code",
      "source": [
        "W=np.random.rand(10)\n",
        "b=np.random.rand()\n",
        "def model(X,w,b):\n",
        "  predictions=0\n",
        "  for i in range(10):\n",
        "    predictions+=X[:,i]*W[i]\n",
        "  predictions+=b\n",
        "  return predictions"
      ],
      "metadata": {
        "id": "kuOCj_bkz8WO"
      },
      "execution_count": 199,
      "outputs": []
    },
    {
      "cell_type": "code",
      "source": [
        "def MSE(a,b):\n",
        "  mse=((a-b)**2).mean()\n",
        "  return mse\n",
        "def loss(X,w,b,y):\n",
        "  prediction = model(X,w,b)\n",
        "  L=MSE(prediction,y)\n",
        "  return L"
      ],
      "metadata": {
        "id": "jDpHQO3x0w0d"
      },
      "execution_count": 200,
      "outputs": []
    },
    {
      "cell_type": "code",
      "source": [
        "def gradient(X,w,b,y):\n",
        "  N=len(W)\n",
        "  y_pred=model(X,w,b)\n",
        "  dW=1/N *2*X.T.dot(y_pred-y)\n",
        "  db=2*(y_pred-y).mean()\n",
        "  return dW,db"
      ],
      "metadata": {
        "id": "eSNK7z7M1Dr8"
      },
      "execution_count": 201,
      "outputs": []
    },
    {
      "cell_type": "code",
      "source": [
        "learning_rate=0.01\n",
        "losses=[]\n",
        "for i in range(1,1001):\n",
        "  dW, db= gradient(X_train,W,b,y_train)\n",
        "  W-=learning_rate*dW\n",
        "  b-=learning_rate*db\n",
        "  L=loss(X_train,W,b,y_train)\n",
        "  losses.append(L)\n",
        "  if i%100==0:\n",
        "    print(\"Iteration %d : Loss %0.4f\" %(i,L))"
      ],
      "metadata": {
        "id": "pfAdlMif9vvp",
        "colab": {
          "base_uri": "https://localhost:8080/"
        },
        "outputId": "277a987f-7c59-4cf4-94a6-736880e895f5"
      },
      "execution_count": 208,
      "outputs": [
        {
          "output_type": "stream",
          "name": "stdout",
          "text": [
            "Iteration 100 : Loss 2896.4147\n",
            "Iteration 200 : Loss 2896.3043\n",
            "Iteration 300 : Loss 2896.2001\n",
            "Iteration 400 : Loss 2896.1014\n",
            "Iteration 500 : Loss 2896.0075\n",
            "Iteration 600 : Loss 2895.9179\n",
            "Iteration 700 : Loss 2895.8322\n",
            "Iteration 800 : Loss 2895.7499\n",
            "Iteration 900 : Loss 2895.6708\n",
            "Iteration 1000 : Loss 2895.5945\n"
          ]
        }
      ]
    },
    {
      "cell_type": "code",
      "source": [
        "prediction=model(X_test,W,b)\n",
        "mse=loss(X_test,W,b,y_test)\n",
        "mse"
      ],
      "metadata": {
        "colab": {
          "base_uri": "https://localhost:8080/"
        },
        "id": "c3oQOeQP69Cy",
        "outputId": "3bfd8f03-aa2b-4b4f-d10e-09372a2c4c6e"
      },
      "execution_count": 209,
      "outputs": [
        {
          "output_type": "execute_result",
          "data": {
            "text/plain": [
              "2913.8134029163184"
            ]
          },
          "metadata": {},
          "execution_count": 209
        }
      ]
    },
    {
      "cell_type": "code",
      "source": [
        "plt.scatter(X_test[:,0],y_test)\n",
        "plt.scatter(X_test[:,0],prediction)\n",
        "plt.show()"
      ],
      "metadata": {
        "colab": {
          "base_uri": "https://localhost:8080/",
          "height": 265
        },
        "id": "0TqDvxzA8BXa",
        "outputId": "0f95033f-4f82-4d04-9cf3-70137cc398ba"
      },
      "execution_count": 210,
      "outputs": [
        {
          "output_type": "display_data",
          "data": {
            "text/plain": [
              "<Figure size 432x288 with 1 Axes>"
            ],
            "image/png": "[encoded data removed]"
          },
          "metadata": {
            "needs_background": "light"
          }
        }
      ]
    },
    {
      "cell_type": "code",
      "source": [
        "skmodel=LinearRegression()\n",
        "skmodel.fit(X_train,y_train)\n",
        "y_pred=skmodel.predict(X_test)\n",
        "y_pred"
      ],
      "metadata": {
        "colab": {
          "base_uri": "https://localhost:8080/"
        },
        "id": "V6HFBf20-1aZ",
        "outputId": "a879862b-0df6-4f0c-bbcc-3bd35b51a17d"
      },
      "execution_count": 224,
      "outputs": [
        {
          "output_type": "execute_result",
          "data": {
            "text/plain": [
              "array([ 70.94219226,  61.70053886, 214.25716131, 143.06376961,\n",
              "       171.66979834, 189.16656847, 173.1850281 , 126.37987094,\n",
              "       267.72984427, 130.26727891,  96.44917109, 215.04502262,\n",
              "        74.59021426, 180.22441206, 113.15367343, 275.01586678,\n",
              "       132.5409287 , 201.98342171, 166.19175789, 111.93471362,\n",
              "       102.25359957,  89.03403008, 188.79716917, 113.24207958,\n",
              "       301.42204496, 164.89119856, 220.55924036, 103.68439039,\n",
              "       146.70113222, 154.59573795,  56.14913135, 239.83717421,\n",
              "       236.12473389, 170.16190731, 165.18574364,  84.96810281,\n",
              "        85.9994433 , 247.26739157, 118.53678432, 168.66678741,\n",
              "       171.62798388, 142.84676688,  94.58539476,  75.02003861,\n",
              "       266.6354916 ,  73.13905704, 161.24295321, 115.27464306,\n",
              "       122.80649252, 216.22018458, 104.99416432, 280.44834883,\n",
              "       140.00566814, 155.32108471, 212.94057921, 263.20403456,\n",
              "       215.64125172, 165.35706035, 132.85318298, 126.89153842,\n",
              "       162.93728852, 196.93889967, 162.36274978,  60.59176996,\n",
              "       179.08510074, 240.9050146 , 173.03899824, 205.28299233,\n",
              "       181.87117933,  63.44312086, 243.33015841,  98.57058552,\n",
              "       143.52057254, 103.3644292 , 120.7911109 , 210.56966319,\n",
              "       161.53698328, 240.78627848, 101.07615377, 152.27295013,\n",
              "       113.26552004, 128.72405978, 125.05238746, 171.3550958 ,\n",
              "       236.01470806, 162.3337389 , 120.89920707, 169.71602026,\n",
              "       160.595427  , 207.8777642 , 198.33851013, 188.64485191,\n",
              "       244.28227687,  92.96527168, 153.16155398, 142.61369502,\n",
              "       189.04668321, 209.90369077, 134.78769706, 192.46556333,\n",
              "       228.11177463, 117.96730565,  89.92121488, 120.38543003,\n",
              "       144.71311845, 157.23810325, 137.85019274, 113.11804868,\n",
              "        87.85321368, 174.76410107, 242.84479452])"
            ]
          },
          "metadata": {},
          "execution_count": 224
        }
      ]
    }
  ]
}